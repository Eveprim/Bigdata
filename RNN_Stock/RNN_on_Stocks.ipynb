{
  "nbformat": 4,
  "nbformat_minor": 0,
  "metadata": {
    "colab": {
      "name": "10-4. RNN_on_Stocks.ipynb",
      "provenance": [],
      "collapsed_sections": []
    },
    "kernelspec": {
      "name": "python3",
      "display_name": "Python 3"
    },
    "language_info": {
      "name": "python"
    }
  },
  "cells": [
    {
      "cell_type": "markdown",
      "source": [
        "# 딥러닝 RNN 기반의 검색 빈도수를 이용한 주가예측\n",
        " - FCN 모델은 현재 시점만 보고 결정: 야 너 지금 가격 35500원인데 살래말래?\n",
        " - 반면 RNN은 어제, 그제, 그그제 가격이 42300, 41000, 37000원 이었거든? 살래말래?"
      ],
      "metadata": {
        "id": "iH_xs7RAv4n2"
      }
    },
    {
      "cell_type": "markdown",
      "source": [
        "# 0. Install packages"
      ],
      "metadata": {
        "id": "_AIyyBNuv-9Z"
      }
    },
    {
      "cell_type": "code",
      "source": [
        "!pip install finance-datareader\n",
        "!pip install -U finance-datareader # 업데이트"
      ],
      "metadata": {
        "id": "b5OtrBfkv3VS",
        "colab": {
          "base_uri": "https://localhost:8080/"
        },
        "outputId": "7d0b2644-8791-4c50-f6ce-25262d5372e4"
      },
      "execution_count": 1,
      "outputs": [
        {
          "output_type": "stream",
          "name": "stdout",
          "text": [
            "Looking in indexes: https://pypi.org/simple, https://us-python.pkg.dev/colab-wheels/public/simple/\n",
            "Collecting finance-datareader\n",
            "  Downloading finance_datareader-0.9.33-py3-none-any.whl (48 kB)\n",
            "\u001b[K     |████████████████████████████████| 48 kB 2.0 MB/s \n",
            "\u001b[?25hCollecting requests-file\n",
            "  Downloading requests_file-1.5.1-py2.py3-none-any.whl (3.7 kB)\n",
            "Requirement already satisfied: pandas>=0.19.2 in /usr/local/lib/python3.7/dist-packages (from finance-datareader) (1.3.5)\n",
            "Requirement already satisfied: tqdm in /usr/local/lib/python3.7/dist-packages (from finance-datareader) (4.64.0)\n",
            "Requirement already satisfied: requests>=2.3.0 in /usr/local/lib/python3.7/dist-packages (from finance-datareader) (2.23.0)\n",
            "Requirement already satisfied: lxml in /usr/local/lib/python3.7/dist-packages (from finance-datareader) (4.2.6)\n",
            "Requirement already satisfied: python-dateutil>=2.7.3 in /usr/local/lib/python3.7/dist-packages (from pandas>=0.19.2->finance-datareader) (2.8.2)\n",
            "Requirement already satisfied: pytz>=2017.3 in /usr/local/lib/python3.7/dist-packages (from pandas>=0.19.2->finance-datareader) (2022.1)\n",
            "Requirement already satisfied: numpy>=1.17.3 in /usr/local/lib/python3.7/dist-packages (from pandas>=0.19.2->finance-datareader) (1.21.6)\n",
            "Requirement already satisfied: six>=1.5 in /usr/local/lib/python3.7/dist-packages (from python-dateutil>=2.7.3->pandas>=0.19.2->finance-datareader) (1.15.0)\n",
            "Requirement already satisfied: chardet<4,>=3.0.2 in /usr/local/lib/python3.7/dist-packages (from requests>=2.3.0->finance-datareader) (3.0.4)\n",
            "Requirement already satisfied: idna<3,>=2.5 in /usr/local/lib/python3.7/dist-packages (from requests>=2.3.0->finance-datareader) (2.10)\n",
            "Requirement already satisfied: certifi>=2017.4.17 in /usr/local/lib/python3.7/dist-packages (from requests>=2.3.0->finance-datareader) (2022.5.18.1)\n",
            "Requirement already satisfied: urllib3!=1.25.0,!=1.25.1,<1.26,>=1.21.1 in /usr/local/lib/python3.7/dist-packages (from requests>=2.3.0->finance-datareader) (1.24.3)\n",
            "Installing collected packages: requests-file, finance-datareader\n",
            "Successfully installed finance-datareader-0.9.33 requests-file-1.5.1\n",
            "Looking in indexes: https://pypi.org/simple, https://us-python.pkg.dev/colab-wheels/public/simple/\n",
            "Requirement already satisfied: finance-datareader in /usr/local/lib/python3.7/dist-packages (0.9.33)\n",
            "Requirement already satisfied: pandas>=0.19.2 in /usr/local/lib/python3.7/dist-packages (from finance-datareader) (1.3.5)\n",
            "Requirement already satisfied: tqdm in /usr/local/lib/python3.7/dist-packages (from finance-datareader) (4.64.0)\n",
            "Requirement already satisfied: lxml in /usr/local/lib/python3.7/dist-packages (from finance-datareader) (4.2.6)\n",
            "Requirement already satisfied: requests>=2.3.0 in /usr/local/lib/python3.7/dist-packages (from finance-datareader) (2.23.0)\n",
            "Requirement already satisfied: requests-file in /usr/local/lib/python3.7/dist-packages (from finance-datareader) (1.5.1)\n",
            "Requirement already satisfied: pytz>=2017.3 in /usr/local/lib/python3.7/dist-packages (from pandas>=0.19.2->finance-datareader) (2022.1)\n",
            "Requirement already satisfied: numpy>=1.17.3 in /usr/local/lib/python3.7/dist-packages (from pandas>=0.19.2->finance-datareader) (1.21.6)\n",
            "Requirement already satisfied: python-dateutil>=2.7.3 in /usr/local/lib/python3.7/dist-packages (from pandas>=0.19.2->finance-datareader) (2.8.2)\n",
            "Requirement already satisfied: six>=1.5 in /usr/local/lib/python3.7/dist-packages (from python-dateutil>=2.7.3->pandas>=0.19.2->finance-datareader) (1.15.0)\n",
            "Requirement already satisfied: certifi>=2017.4.17 in /usr/local/lib/python3.7/dist-packages (from requests>=2.3.0->finance-datareader) (2022.5.18.1)\n",
            "Requirement already satisfied: chardet<4,>=3.0.2 in /usr/local/lib/python3.7/dist-packages (from requests>=2.3.0->finance-datareader) (3.0.4)\n",
            "Requirement already satisfied: urllib3!=1.25.0,!=1.25.1,<1.26,>=1.21.1 in /usr/local/lib/python3.7/dist-packages (from requests>=2.3.0->finance-datareader) (1.24.3)\n",
            "Requirement already satisfied: idna<3,>=2.5 in /usr/local/lib/python3.7/dist-packages (from requests>=2.3.0->finance-datareader) (2.10)\n"
          ]
        }
      ]
    },
    {
      "cell_type": "code",
      "source": [
        "import torch\n",
        "import torch.optim as optim\n",
        "import numpy as np\n",
        "import pandas as pd\n",
        "import matplotlib.pyplot as plt\n",
        "import urllib.request\n",
        "import json\n",
        "import re"
      ],
      "metadata": {
        "id": "CmhLKqq13fUE"
      },
      "execution_count": 2,
      "outputs": []
    },
    {
      "cell_type": "markdown",
      "source": [
        "# 1. Prepare datasests"
      ],
      "metadata": {
        "id": "ruoJovvcwD32"
      }
    },
    {
      "cell_type": "markdown",
      "source": [
        "## 1-1. 주가 데이터 불러오기"
      ],
      "metadata": {
        "id": "YumVDrMY6eCu"
      }
    },
    {
      "cell_type": "code",
      "execution_count": 3,
      "metadata": {
        "id": "sJa9ai4wv2pD",
        "colab": {
          "base_uri": "https://localhost:8080/",
          "height": 206
        },
        "outputId": "b2f5cfc4-0514-47f7-c5dd-b8bede40c758"
      },
      "outputs": [
        {
          "output_type": "execute_result",
          "data": {
            "text/plain": [
              "   Symbol  Market    Name           Sector             Industry ListingDate  \\\n",
              "0  060310  KOSDAQ      3S         전자부품 제조업          반도체 웨이퍼 캐리어  2002-04-23   \n",
              "1  095570   KOSPI  AJ네트웍스  산업용 기계 및 장비 임대업  렌탈(파렛트, OA장비, 건설장비)  2015-08-21   \n",
              "2  006840   KOSPI   AK홀딩스           기타 금융업                 지주사업  1999-08-11   \n",
              "3  054620  KOSDAQ  APS홀딩스           기타 금융업          인터넷 트래픽 솔루션  2001-12-04   \n",
              "4  265520  KOSDAQ   AP시스템    특수 목적용 기계 제조업          디스플레이 제조 장비  2017-04-07   \n",
              "\n",
              "  SettleMonth     Representative                       HomePage Region  \n",
              "0         03월                김세완           http://www.3sref.com  서울특별시  \n",
              "1         12월           박대현, 손삼달         http://www.ajnet.co.kr  서울특별시  \n",
              "2         12월  채형석, 이석주(각자 대표이사)  http://www.aekyunggroup.co.kr  서울특별시  \n",
              "3         12월                정기로   http://www.apsholdings.co.kr    경기도  \n",
              "4         12월                김영주     http://www.apsystems.co.kr    경기도  "
            ],
            "text/html": [
              "\n",
              "  <div id=\"df-b319a96a-c868-4cfd-b731-4bd444df6ff7\">\n",
              "    <div class=\"colab-df-container\">\n",
              "      <div>\n",
              "<style scoped>\n",
              "    .dataframe tbody tr th:only-of-type {\n",
              "        vertical-align: middle;\n",
              "    }\n",
              "\n",
              "    .dataframe tbody tr th {\n",
              "        vertical-align: top;\n",
              "    }\n",
              "\n",
              "    .dataframe thead th {\n",
              "        text-align: right;\n",
              "    }\n",
              "</style>\n",
              "<table border=\"1\" class=\"dataframe\">\n",
              "  <thead>\n",
              "    <tr style=\"text-align: right;\">\n",
              "      <th></th>\n",
              "      <th>Symbol</th>\n",
              "      <th>Market</th>\n",
              "      <th>Name</th>\n",
              "      <th>Sector</th>\n",
              "      <th>Industry</th>\n",
              "      <th>ListingDate</th>\n",
              "      <th>SettleMonth</th>\n",
              "      <th>Representative</th>\n",
              "      <th>HomePage</th>\n",
              "      <th>Region</th>\n",
              "    </tr>\n",
              "  </thead>\n",
              "  <tbody>\n",
              "    <tr>\n",
              "      <th>0</th>\n",
              "      <td>060310</td>\n",
              "      <td>KOSDAQ</td>\n",
              "      <td>3S</td>\n",
              "      <td>전자부품 제조업</td>\n",
              "      <td>반도체 웨이퍼 캐리어</td>\n",
              "      <td>2002-04-23</td>\n",
              "      <td>03월</td>\n",
              "      <td>김세완</td>\n",
              "      <td>http://www.3sref.com</td>\n",
              "      <td>서울특별시</td>\n",
              "    </tr>\n",
              "    <tr>\n",
              "      <th>1</th>\n",
              "      <td>095570</td>\n",
              "      <td>KOSPI</td>\n",
              "      <td>AJ네트웍스</td>\n",
              "      <td>산업용 기계 및 장비 임대업</td>\n",
              "      <td>렌탈(파렛트, OA장비, 건설장비)</td>\n",
              "      <td>2015-08-21</td>\n",
              "      <td>12월</td>\n",
              "      <td>박대현, 손삼달</td>\n",
              "      <td>http://www.ajnet.co.kr</td>\n",
              "      <td>서울특별시</td>\n",
              "    </tr>\n",
              "    <tr>\n",
              "      <th>2</th>\n",
              "      <td>006840</td>\n",
              "      <td>KOSPI</td>\n",
              "      <td>AK홀딩스</td>\n",
              "      <td>기타 금융업</td>\n",
              "      <td>지주사업</td>\n",
              "      <td>1999-08-11</td>\n",
              "      <td>12월</td>\n",
              "      <td>채형석, 이석주(각자 대표이사)</td>\n",
              "      <td>http://www.aekyunggroup.co.kr</td>\n",
              "      <td>서울특별시</td>\n",
              "    </tr>\n",
              "    <tr>\n",
              "      <th>3</th>\n",
              "      <td>054620</td>\n",
              "      <td>KOSDAQ</td>\n",
              "      <td>APS홀딩스</td>\n",
              "      <td>기타 금융업</td>\n",
              "      <td>인터넷 트래픽 솔루션</td>\n",
              "      <td>2001-12-04</td>\n",
              "      <td>12월</td>\n",
              "      <td>정기로</td>\n",
              "      <td>http://www.apsholdings.co.kr</td>\n",
              "      <td>경기도</td>\n",
              "    </tr>\n",
              "    <tr>\n",
              "      <th>4</th>\n",
              "      <td>265520</td>\n",
              "      <td>KOSDAQ</td>\n",
              "      <td>AP시스템</td>\n",
              "      <td>특수 목적용 기계 제조업</td>\n",
              "      <td>디스플레이 제조 장비</td>\n",
              "      <td>2017-04-07</td>\n",
              "      <td>12월</td>\n",
              "      <td>김영주</td>\n",
              "      <td>http://www.apsystems.co.kr</td>\n",
              "      <td>경기도</td>\n",
              "    </tr>\n",
              "  </tbody>\n",
              "</table>\n",
              "</div>\n",
              "      <button class=\"colab-df-convert\" onclick=\"convertToInteractive('df-b319a96a-c868-4cfd-b731-4bd444df6ff7')\"\n",
              "              title=\"Convert this dataframe to an interactive table.\"\n",
              "              style=\"display:none;\">\n",
              "        \n",
              "  <svg xmlns=\"http://www.w3.org/2000/svg\" height=\"24px\"viewBox=\"0 0 24 24\"\n",
              "       width=\"24px\">\n",
              "    <path d=\"M0 0h24v24H0V0z\" fill=\"none\"/>\n",
              "    <path d=\"M18.56 5.44l.94 2.06.94-2.06 2.06-.94-2.06-.94-.94-2.06-.94 2.06-2.06.94zm-11 1L8.5 8.5l.94-2.06 2.06-.94-2.06-.94L8.5 2.5l-.94 2.06-2.06.94zm10 10l.94 2.06.94-2.06 2.06-.94-2.06-.94-.94-2.06-.94 2.06-2.06.94z\"/><path d=\"M17.41 7.96l-1.37-1.37c-.4-.4-.92-.59-1.43-.59-.52 0-1.04.2-1.43.59L10.3 9.45l-7.72 7.72c-.78.78-.78 2.05 0 2.83L4 21.41c.39.39.9.59 1.41.59.51 0 1.02-.2 1.41-.59l7.78-7.78 2.81-2.81c.8-.78.8-2.07 0-2.86zM5.41 20L4 18.59l7.72-7.72 1.47 1.35L5.41 20z\"/>\n",
              "  </svg>\n",
              "      </button>\n",
              "      \n",
              "  <style>\n",
              "    .colab-df-container {\n",
              "      display:flex;\n",
              "      flex-wrap:wrap;\n",
              "      gap: 12px;\n",
              "    }\n",
              "\n",
              "    .colab-df-convert {\n",
              "      background-color: #E8F0FE;\n",
              "      border: none;\n",
              "      border-radius: 50%;\n",
              "      cursor: pointer;\n",
              "      display: none;\n",
              "      fill: #1967D2;\n",
              "      height: 32px;\n",
              "      padding: 0 0 0 0;\n",
              "      width: 32px;\n",
              "    }\n",
              "\n",
              "    .colab-df-convert:hover {\n",
              "      background-color: #E2EBFA;\n",
              "      box-shadow: 0px 1px 2px rgba(60, 64, 67, 0.3), 0px 1px 3px 1px rgba(60, 64, 67, 0.15);\n",
              "      fill: #174EA6;\n",
              "    }\n",
              "\n",
              "    [theme=dark] .colab-df-convert {\n",
              "      background-color: #3B4455;\n",
              "      fill: #D2E3FC;\n",
              "    }\n",
              "\n",
              "    [theme=dark] .colab-df-convert:hover {\n",
              "      background-color: #434B5C;\n",
              "      box-shadow: 0px 1px 3px 1px rgba(0, 0, 0, 0.15);\n",
              "      filter: drop-shadow(0px 1px 2px rgba(0, 0, 0, 0.3));\n",
              "      fill: #FFFFFF;\n",
              "    }\n",
              "  </style>\n",
              "\n",
              "      <script>\n",
              "        const buttonEl =\n",
              "          document.querySelector('#df-b319a96a-c868-4cfd-b731-4bd444df6ff7 button.colab-df-convert');\n",
              "        buttonEl.style.display =\n",
              "          google.colab.kernel.accessAllowed ? 'block' : 'none';\n",
              "\n",
              "        async function convertToInteractive(key) {\n",
              "          const element = document.querySelector('#df-b319a96a-c868-4cfd-b731-4bd444df6ff7');\n",
              "          const dataTable =\n",
              "            await google.colab.kernel.invokeFunction('convertToInteractive',\n",
              "                                                     [key], {});\n",
              "          if (!dataTable) return;\n",
              "\n",
              "          const docLinkHtml = 'Like what you see? Visit the ' +\n",
              "            '<a target=\"_blank\" href=https://colab.research.google.com/notebooks/data_table.ipynb>data table notebook</a>'\n",
              "            + ' to learn more about interactive tables.';\n",
              "          element.innerHTML = '';\n",
              "          dataTable['output_type'] = 'display_data';\n",
              "          await google.colab.output.renderOutput(dataTable, element);\n",
              "          const docLink = document.createElement('div');\n",
              "          docLink.innerHTML = docLinkHtml;\n",
              "          element.appendChild(docLink);\n",
              "        }\n",
              "      </script>\n",
              "    </div>\n",
              "  </div>\n",
              "  "
            ]
          },
          "metadata": {},
          "execution_count": 3
        }
      ],
      "source": [
        "# Random seed to make results deterministic and reproducible\n",
        "torch.manual_seed(0)\n",
        "\n",
        "# 한국거래소에 상장된 모든 종목 리스트 가져오기\n",
        "import FinanceDataReader as fdr\n",
        "df_krx = fdr.StockListing('KRX')\n",
        "df_krx.head()"
      ]
    },
    {
      "cell_type": "code",
      "source": [
        "df = fdr.DataReader('036570','2022-01-02', '2022-04-12') # NCsoft 주가를 2020년부터 현시점까지 가져온다"
      ],
      "metadata": {
        "id": "hRD8JZyy1kSq"
      },
      "execution_count": 4,
      "outputs": []
    },
    {
      "cell_type": "code",
      "source": [
        "df"
      ],
      "metadata": {
        "colab": {
          "base_uri": "https://localhost:8080/",
          "height": 455
        },
        "id": "9yar11nd3Qy0",
        "outputId": "8a89b38f-bf5e-479a-ed53-aaf162ce07e9"
      },
      "execution_count": 5,
      "outputs": [
        {
          "output_type": "execute_result",
          "data": {
            "text/plain": [
              "              Open    High     Low   Close  Volume    Change\n",
              "Date                                                        \n",
              "2022-01-03  645000  689000  644000  667000  237394  0.037325\n",
              "2022-01-04  662000  669000  654000  657000  111602 -0.014993\n",
              "2022-01-05  652000  654000  622000  625000  196204 -0.048706\n",
              "2022-01-06  617000  622000  599000  601000  206173 -0.038400\n",
              "2022-01-07  606000  620000  603000  606000  125308  0.008319\n",
              "...            ...     ...     ...     ...     ...       ...\n",
              "2022-04-06  475000  483500  469000  474000   96750 -0.012500\n",
              "2022-04-07  469000  471500  462000  462000  103079 -0.025316\n",
              "2022-04-08  462500  466500  453500  458000   87055 -0.008658\n",
              "2022-04-11  450500  459000  449000  453500   59322 -0.009825\n",
              "2022-04-12  452000  461500  446500  458000  100684  0.009923\n",
              "\n",
              "[67 rows x 6 columns]"
            ],
            "text/html": [
              "\n",
              "  <div id=\"df-dc728f6a-2b86-4008-98e1-059832894216\">\n",
              "    <div class=\"colab-df-container\">\n",
              "      <div>\n",
              "<style scoped>\n",
              "    .dataframe tbody tr th:only-of-type {\n",
              "        vertical-align: middle;\n",
              "    }\n",
              "\n",
              "    .dataframe tbody tr th {\n",
              "        vertical-align: top;\n",
              "    }\n",
              "\n",
              "    .dataframe thead th {\n",
              "        text-align: right;\n",
              "    }\n",
              "</style>\n",
              "<table border=\"1\" class=\"dataframe\">\n",
              "  <thead>\n",
              "    <tr style=\"text-align: right;\">\n",
              "      <th></th>\n",
              "      <th>Open</th>\n",
              "      <th>High</th>\n",
              "      <th>Low</th>\n",
              "      <th>Close</th>\n",
              "      <th>Volume</th>\n",
              "      <th>Change</th>\n",
              "    </tr>\n",
              "    <tr>\n",
              "      <th>Date</th>\n",
              "      <th></th>\n",
              "      <th></th>\n",
              "      <th></th>\n",
              "      <th></th>\n",
              "      <th></th>\n",
              "      <th></th>\n",
              "    </tr>\n",
              "  </thead>\n",
              "  <tbody>\n",
              "    <tr>\n",
              "      <th>2022-01-03</th>\n",
              "      <td>645000</td>\n",
              "      <td>689000</td>\n",
              "      <td>644000</td>\n",
              "      <td>667000</td>\n",
              "      <td>237394</td>\n",
              "      <td>0.037325</td>\n",
              "    </tr>\n",
              "    <tr>\n",
              "      <th>2022-01-04</th>\n",
              "      <td>662000</td>\n",
              "      <td>669000</td>\n",
              "      <td>654000</td>\n",
              "      <td>657000</td>\n",
              "      <td>111602</td>\n",
              "      <td>-0.014993</td>\n",
              "    </tr>\n",
              "    <tr>\n",
              "      <th>2022-01-05</th>\n",
              "      <td>652000</td>\n",
              "      <td>654000</td>\n",
              "      <td>622000</td>\n",
              "      <td>625000</td>\n",
              "      <td>196204</td>\n",
              "      <td>-0.048706</td>\n",
              "    </tr>\n",
              "    <tr>\n",
              "      <th>2022-01-06</th>\n",
              "      <td>617000</td>\n",
              "      <td>622000</td>\n",
              "      <td>599000</td>\n",
              "      <td>601000</td>\n",
              "      <td>206173</td>\n",
              "      <td>-0.038400</td>\n",
              "    </tr>\n",
              "    <tr>\n",
              "      <th>2022-01-07</th>\n",
              "      <td>606000</td>\n",
              "      <td>620000</td>\n",
              "      <td>603000</td>\n",
              "      <td>606000</td>\n",
              "      <td>125308</td>\n",
              "      <td>0.008319</td>\n",
              "    </tr>\n",
              "    <tr>\n",
              "      <th>...</th>\n",
              "      <td>...</td>\n",
              "      <td>...</td>\n",
              "      <td>...</td>\n",
              "      <td>...</td>\n",
              "      <td>...</td>\n",
              "      <td>...</td>\n",
              "    </tr>\n",
              "    <tr>\n",
              "      <th>2022-04-06</th>\n",
              "      <td>475000</td>\n",
              "      <td>483500</td>\n",
              "      <td>469000</td>\n",
              "      <td>474000</td>\n",
              "      <td>96750</td>\n",
              "      <td>-0.012500</td>\n",
              "    </tr>\n",
              "    <tr>\n",
              "      <th>2022-04-07</th>\n",
              "      <td>469000</td>\n",
              "      <td>471500</td>\n",
              "      <td>462000</td>\n",
              "      <td>462000</td>\n",
              "      <td>103079</td>\n",
              "      <td>-0.025316</td>\n",
              "    </tr>\n",
              "    <tr>\n",
              "      <th>2022-04-08</th>\n",
              "      <td>462500</td>\n",
              "      <td>466500</td>\n",
              "      <td>453500</td>\n",
              "      <td>458000</td>\n",
              "      <td>87055</td>\n",
              "      <td>-0.008658</td>\n",
              "    </tr>\n",
              "    <tr>\n",
              "      <th>2022-04-11</th>\n",
              "      <td>450500</td>\n",
              "      <td>459000</td>\n",
              "      <td>449000</td>\n",
              "      <td>453500</td>\n",
              "      <td>59322</td>\n",
              "      <td>-0.009825</td>\n",
              "    </tr>\n",
              "    <tr>\n",
              "      <th>2022-04-12</th>\n",
              "      <td>452000</td>\n",
              "      <td>461500</td>\n",
              "      <td>446500</td>\n",
              "      <td>458000</td>\n",
              "      <td>100684</td>\n",
              "      <td>0.009923</td>\n",
              "    </tr>\n",
              "  </tbody>\n",
              "</table>\n",
              "<p>67 rows × 6 columns</p>\n",
              "</div>\n",
              "      <button class=\"colab-df-convert\" onclick=\"convertToInteractive('df-dc728f6a-2b86-4008-98e1-059832894216')\"\n",
              "              title=\"Convert this dataframe to an interactive table.\"\n",
              "              style=\"display:none;\">\n",
              "        \n",
              "  <svg xmlns=\"http://www.w3.org/2000/svg\" height=\"24px\"viewBox=\"0 0 24 24\"\n",
              "       width=\"24px\">\n",
              "    <path d=\"M0 0h24v24H0V0z\" fill=\"none\"/>\n",
              "    <path d=\"M18.56 5.44l.94 2.06.94-2.06 2.06-.94-2.06-.94-.94-2.06-.94 2.06-2.06.94zm-11 1L8.5 8.5l.94-2.06 2.06-.94-2.06-.94L8.5 2.5l-.94 2.06-2.06.94zm10 10l.94 2.06.94-2.06 2.06-.94-2.06-.94-.94-2.06-.94 2.06-2.06.94z\"/><path d=\"M17.41 7.96l-1.37-1.37c-.4-.4-.92-.59-1.43-.59-.52 0-1.04.2-1.43.59L10.3 9.45l-7.72 7.72c-.78.78-.78 2.05 0 2.83L4 21.41c.39.39.9.59 1.41.59.51 0 1.02-.2 1.41-.59l7.78-7.78 2.81-2.81c.8-.78.8-2.07 0-2.86zM5.41 20L4 18.59l7.72-7.72 1.47 1.35L5.41 20z\"/>\n",
              "  </svg>\n",
              "      </button>\n",
              "      \n",
              "  <style>\n",
              "    .colab-df-container {\n",
              "      display:flex;\n",
              "      flex-wrap:wrap;\n",
              "      gap: 12px;\n",
              "    }\n",
              "\n",
              "    .colab-df-convert {\n",
              "      background-color: #E8F0FE;\n",
              "      border: none;\n",
              "      border-radius: 50%;\n",
              "      cursor: pointer;\n",
              "      display: none;\n",
              "      fill: #1967D2;\n",
              "      height: 32px;\n",
              "      padding: 0 0 0 0;\n",
              "      width: 32px;\n",
              "    }\n",
              "\n",
              "    .colab-df-convert:hover {\n",
              "      background-color: #E2EBFA;\n",
              "      box-shadow: 0px 1px 2px rgba(60, 64, 67, 0.3), 0px 1px 3px 1px rgba(60, 64, 67, 0.15);\n",
              "      fill: #174EA6;\n",
              "    }\n",
              "\n",
              "    [theme=dark] .colab-df-convert {\n",
              "      background-color: #3B4455;\n",
              "      fill: #D2E3FC;\n",
              "    }\n",
              "\n",
              "    [theme=dark] .colab-df-convert:hover {\n",
              "      background-color: #434B5C;\n",
              "      box-shadow: 0px 1px 3px 1px rgba(0, 0, 0, 0.15);\n",
              "      filter: drop-shadow(0px 1px 2px rgba(0, 0, 0, 0.3));\n",
              "      fill: #FFFFFF;\n",
              "    }\n",
              "  </style>\n",
              "\n",
              "      <script>\n",
              "        const buttonEl =\n",
              "          document.querySelector('#df-dc728f6a-2b86-4008-98e1-059832894216 button.colab-df-convert');\n",
              "        buttonEl.style.display =\n",
              "          google.colab.kernel.accessAllowed ? 'block' : 'none';\n",
              "\n",
              "        async function convertToInteractive(key) {\n",
              "          const element = document.querySelector('#df-dc728f6a-2b86-4008-98e1-059832894216');\n",
              "          const dataTable =\n",
              "            await google.colab.kernel.invokeFunction('convertToInteractive',\n",
              "                                                     [key], {});\n",
              "          if (!dataTable) return;\n",
              "\n",
              "          const docLinkHtml = 'Like what you see? Visit the ' +\n",
              "            '<a target=\"_blank\" href=https://colab.research.google.com/notebooks/data_table.ipynb>data table notebook</a>'\n",
              "            + ' to learn more about interactive tables.';\n",
              "          element.innerHTML = '';\n",
              "          dataTable['output_type'] = 'display_data';\n",
              "          await google.colab.output.renderOutput(dataTable, element);\n",
              "          const docLink = document.createElement('div');\n",
              "          docLink.innerHTML = docLinkHtml;\n",
              "          element.appendChild(docLink);\n",
              "        }\n",
              "      </script>\n",
              "    </div>\n",
              "  </div>\n",
              "  "
            ]
          },
          "metadata": {},
          "execution_count": 5
        }
      ]
    },
    {
      "cell_type": "code",
      "source": [
        "df = df.fillna(0)"
      ],
      "metadata": {
        "id": "4EG7lm7M3TP3"
      },
      "execution_count": 6,
      "outputs": []
    },
    {
      "cell_type": "code",
      "source": [
        "plt.plot(df['Close'], 'bo-')\n",
        "plt.xticks(rotation=45)"
      ],
      "metadata": {
        "colab": {
          "base_uri": "https://localhost:8080/",
          "height": 340
        },
        "id": "Cxp628qL3wVT",
        "outputId": "9097d71e-afd1-40c3-b4c9-51926d674ef0"
      },
      "execution_count": 7,
      "outputs": [
        {
          "output_type": "execute_result",
          "data": {
            "text/plain": [
              "(array([738156., 738170., 738187., 738201., 738215., 738229., 738246.,\n",
              "        738260.]), <a list of 8 Text major ticklabel objects>)"
            ]
          },
          "metadata": {},
          "execution_count": 7
        },
        {
          "output_type": "display_data",
          "data": {
            "text/plain": [
              "<Figure size 432x288 with 1 Axes>"
            ],
            "image/png": "[encoded data removed]"
          },
          "metadata": {
            "needs_background": "light"
          }
        }
      ]
    },
    {
      "cell_type": "markdown",
      "source": [
        "## 1-2. Naver API 키워드 검색 데이터 불러오기"
      ],
      "metadata": {
        "id": "L16p9sjj6jHB"
      }
    },
    {
      "cell_type": "code",
      "source": [
        "import os\n",
        "import sys\n",
        "import urllib.request\n",
        "client_id = \"8sAydq_QSOxKcICuD2Og\"\n",
        "client_secret = \"OruQjbmaXF\"\n",
        "url = \"https://openapi.naver.com/v1/datalab/search\";\n",
        "body = \"{\\\"startDate\\\":\\\"2022-01-02\\\",\\\"endDate\\\":\\\"2022-04-12\\\",\\\"timeUnit\\\":\\\"date\\\",\\\"keywordGroups\\\":[{\\\"groupName\\\":\\\"KAI_0\\\",\\\"keywords\\\":[\\\"기아\\\"]}, {\\\"groupName\\\":\\\"KAI_1\\\",\\\"keywords\\\":[\\\"중고차\\\"]}, {\\\"groupName\\\":\\\"KAI_2\\\",\\\"keywords\\\":[\\\"리콜\\\"]}]}\";\n",
        "\n",
        "request = urllib.request.Request(url)\n",
        "request.add_header(\"X-Naver-Client-Id\",client_id)\n",
        "request.add_header(\"X-Naver-Client-Secret\",client_secret)\n",
        "request.add_header(\"Content-Type\",\"application/json\")\n",
        "response = urllib.request.urlopen(request, data=body.encode(\"utf-8\"))\n",
        "rescode = response.getcode()\n",
        "if(rescode==200):\n",
        "    response_body = response.read()\n",
        "    #print(response_body.decode('utf-8'))\n",
        "    search_count = response_body.decode('utf-8')\n",
        "else:\n",
        "    print(\"Error Code:\" + rescode)"
      ],
      "metadata": {
        "id": "sNK97GaS6okU"
      },
      "execution_count": 8,
      "outputs": []
    },
    {
      "cell_type": "code",
      "source": [
        "search_count_json = json.loads(search_count)"
      ],
      "metadata": {
        "id": "LtYJfefd8M1b"
      },
      "execution_count": 9,
      "outputs": []
    },
    {
      "cell_type": "markdown",
      "source": [
        "## 1-3. 데이터 전처리 및 Merge하기"
      ],
      "metadata": {
        "id": "nYnUNmB-JjXP"
      }
    },
    {
      "cell_type": "code",
      "source": [
        "for idx in range(len(search_count_json[\"results\"])):\n",
        "  \n",
        "  df_json = pd.DataFrame(search_count_json[\"results\"][idx][\"data\"])\n",
        "  column_name = 'Key_Count'+str(idx)\n",
        "  df_json.columns = ['Date', column_name]\n",
        "  df_json['Date'] = pd.to_datetime(df_json['Date'])\n",
        "  df_json.reset_index(drop=True)\n",
        "  df_json.set_index(\"Date\")\n",
        "  #Please refer to the section of \"Merging asof\" in https://pandas.pydata.org/docs/user_guide/merging.html\n",
        "  df = pd.merge_asof(df, df_json, on=\"Date\", by=\"Date\")"
      ],
      "metadata": {
        "id": "qWrzE61AHwLY"
      },
      "execution_count": 10,
      "outputs": []
    },
    {
      "cell_type": "code",
      "source": [
        "df_all = df"
      ],
      "metadata": {
        "id": "16PpbyrlGZ7l"
      },
      "execution_count": 11,
      "outputs": []
    },
    {
      "cell_type": "code",
      "source": [
        "df_all[\"Change\"].sum() # 전체 주가의 변동폭은 2020년부터 현재까지 증가일까 감소일까? 최종 주가는 빠졌는데 놀랍게도 증가함.. 이는 복리의 함정"
      ],
      "metadata": {
        "colab": {
          "base_uri": "https://localhost:8080/"
        },
        "id": "tZNTBN3f9cSC",
        "outputId": "bff5d970-1e48-490a-c94e-022efbace8f1"
      },
      "execution_count": 12,
      "outputs": [
        {
          "output_type": "execute_result",
          "data": {
            "text/plain": [
              "-0.3216858919029978"
            ]
          },
          "metadata": {},
          "execution_count": 12
        }
      ]
    },
    {
      "cell_type": "code",
      "source": [
        "df_all[df_all[\"Date\"] > '2022-01-01'][\"Change\"].sum() #조금 더 범위를 좁혀 그러면 2022년 전체 주가 변동폭만 검색해보자, 역시 폭락중 불쌍한 임교수"
      ],
      "metadata": {
        "colab": {
          "base_uri": "https://localhost:8080/"
        },
        "id": "TYLSgWit-B4L",
        "outputId": "bf0a8483-5c6f-41f8-c77e-ba6ab16fd298"
      },
      "execution_count": 13,
      "outputs": [
        {
          "output_type": "execute_result",
          "data": {
            "text/plain": [
              "-0.3216858919029978"
            ]
          },
          "metadata": {},
          "execution_count": 13
        }
      ]
    },
    {
      "cell_type": "code",
      "source": [
        "#df_all[df_all[\"Count\"].notnull()][\"Change\"].sum() # 그렇다면 해당 키워드가 검색된 날만 뽑아 주가가 상승했는지 하락인지 살펴보자."
      ],
      "metadata": {
        "id": "rvgJXeGc2I2Y"
      },
      "execution_count": 14,
      "outputs": []
    },
    {
      "cell_type": "code",
      "source": [
        "# Fill nan as 0\n",
        "df_all = df_all.fillna(0)\n",
        "df_all.any().isnull()"
      ],
      "metadata": {
        "colab": {
          "base_uri": "https://localhost:8080/"
        },
        "id": "Prgeak9_mw6L",
        "outputId": "355d9cc2-bec5-4133-bf4c-0a68cc7649b9"
      },
      "execution_count": 15,
      "outputs": [
        {
          "output_type": "execute_result",
          "data": {
            "text/plain": [
              "Date          False\n",
              "Open          False\n",
              "High          False\n",
              "Low           False\n",
              "Close         False\n",
              "Volume        False\n",
              "Change        False\n",
              "Key_Count0    False\n",
              "Key_Count1    False\n",
              "Key_Count2    False\n",
              "dtype: bool"
            ]
          },
          "metadata": {},
          "execution_count": 15
        }
      ]
    },
    {
      "cell_type": "code",
      "source": [
        "df_all"
      ],
      "metadata": {
        "colab": {
          "base_uri": "https://localhost:8080/",
          "height": 424
        },
        "id": "dlW0D2SeHpuA",
        "outputId": "2dcff066-990a-4d13-a9a6-2072d74f05ac"
      },
      "execution_count": 16,
      "outputs": [
        {
          "output_type": "execute_result",
          "data": {
            "text/plain": [
              "         Date    Open    High     Low   Close  Volume    Change  Key_Count0  \\\n",
              "0  2022-01-03  645000  689000  644000  667000  237394  0.037325    53.52948   \n",
              "1  2022-01-04  662000  669000  654000  657000  111602 -0.014993    54.69714   \n",
              "2  2022-01-05  652000  654000  622000  625000  196204 -0.048706    68.64924   \n",
              "3  2022-01-06  617000  622000  599000  601000  206173 -0.038400    58.62469   \n",
              "4  2022-01-07  606000  620000  603000  606000  125308  0.008319    61.21210   \n",
              "..        ...     ...     ...     ...     ...     ...       ...         ...   \n",
              "62 2022-04-06  475000  483500  469000  474000   96750 -0.012500   100.00000   \n",
              "63 2022-04-07  469000  471500  462000  462000  103079 -0.025316    67.23280   \n",
              "64 2022-04-08  462500  466500  453500  458000   87055 -0.008658    54.61421   \n",
              "65 2022-04-11  450500  459000  449000  453500   59322 -0.009825    73.23027   \n",
              "66 2022-04-12  452000  461500  446500  458000  100684  0.009923    61.41113   \n",
              "\n",
              "    Key_Count1  Key_Count2  \n",
              "0     69.85006     0.83924  \n",
              "1     66.97737     0.75963  \n",
              "2     67.76023     0.80939  \n",
              "3     65.31214     0.89232  \n",
              "4     64.60558     0.78617  \n",
              "..         ...         ...  \n",
              "62    63.02660     0.98852  \n",
              "63    61.49074     1.73489  \n",
              "64    58.79055     1.10794  \n",
              "65    63.77628     0.95203  \n",
              "66    62.00159     0.90890  \n",
              "\n",
              "[67 rows x 10 columns]"
            ],
            "text/html": [
              "\n",
              "  <div id=\"df-5ec496df-74d7-4ae9-98fd-a8d620194944\">\n",
              "    <div class=\"colab-df-container\">\n",
              "      <div>\n",
              "<style scoped>\n",
              "    .dataframe tbody tr th:only-of-type {\n",
              "        vertical-align: middle;\n",
              "    }\n",
              "\n",
              "    .dataframe tbody tr th {\n",
              "        vertical-align: top;\n",
              "    }\n",
              "\n",
              "    .dataframe thead th {\n",
              "        text-align: right;\n",
              "    }\n",
              "</style>\n",
              "<table border=\"1\" class=\"dataframe\">\n",
              "  <thead>\n",
              "    <tr style=\"text-align: right;\">\n",
              "      <th></th>\n",
              "      <th>Date</th>\n",
              "      <th>Open</th>\n",
              "      <th>High</th>\n",
              "      <th>Low</th>\n",
              "      <th>Close</th>\n",
              "      <th>Volume</th>\n",
              "      <th>Change</th>\n",
              "      <th>Key_Count0</th>\n",
              "      <th>Key_Count1</th>\n",
              "      <th>Key_Count2</th>\n",
              "    </tr>\n",
              "  </thead>\n",
              "  <tbody>\n",
              "    <tr>\n",
              "      <th>0</th>\n",
              "      <td>2022-01-03</td>\n",
              "      <td>645000</td>\n",
              "      <td>689000</td>\n",
              "      <td>644000</td>\n",
              "      <td>667000</td>\n",
              "      <td>237394</td>\n",
              "      <td>0.037325</td>\n",
              "      <td>53.52948</td>\n",
              "      <td>69.85006</td>\n",
              "      <td>0.83924</td>\n",
              "    </tr>\n",
              "    <tr>\n",
              "      <th>1</th>\n",
              "      <td>2022-01-04</td>\n",
              "      <td>662000</td>\n",
              "      <td>669000</td>\n",
              "      <td>654000</td>\n",
              "      <td>657000</td>\n",
              "      <td>111602</td>\n",
              "      <td>-0.014993</td>\n",
              "      <td>54.69714</td>\n",
              "      <td>66.97737</td>\n",
              "      <td>0.75963</td>\n",
              "    </tr>\n",
              "    <tr>\n",
              "      <th>2</th>\n",
              "      <td>2022-01-05</td>\n",
              "      <td>652000</td>\n",
              "      <td>654000</td>\n",
              "      <td>622000</td>\n",
              "      <td>625000</td>\n",
              "      <td>196204</td>\n",
              "      <td>-0.048706</td>\n",
              "      <td>68.64924</td>\n",
              "      <td>67.76023</td>\n",
              "      <td>0.80939</td>\n",
              "    </tr>\n",
              "    <tr>\n",
              "      <th>3</th>\n",
              "      <td>2022-01-06</td>\n",
              "      <td>617000</td>\n",
              "      <td>622000</td>\n",
              "      <td>599000</td>\n",
              "      <td>601000</td>\n",
              "      <td>206173</td>\n",
              "      <td>-0.038400</td>\n",
              "      <td>58.62469</td>\n",
              "      <td>65.31214</td>\n",
              "      <td>0.89232</td>\n",
              "    </tr>\n",
              "    <tr>\n",
              "      <th>4</th>\n",
              "      <td>2022-01-07</td>\n",
              "      <td>606000</td>\n",
              "      <td>620000</td>\n",
              "      <td>603000</td>\n",
              "      <td>606000</td>\n",
              "      <td>125308</td>\n",
              "      <td>0.008319</td>\n",
              "      <td>61.21210</td>\n",
              "      <td>64.60558</td>\n",
              "      <td>0.78617</td>\n",
              "    </tr>\n",
              "    <tr>\n",
              "      <th>...</th>\n",
              "      <td>...</td>\n",
              "      <td>...</td>\n",
              "      <td>...</td>\n",
              "      <td>...</td>\n",
              "      <td>...</td>\n",
              "      <td>...</td>\n",
              "      <td>...</td>\n",
              "      <td>...</td>\n",
              "      <td>...</td>\n",
              "      <td>...</td>\n",
              "    </tr>\n",
              "    <tr>\n",
              "      <th>62</th>\n",
              "      <td>2022-04-06</td>\n",
              "      <td>475000</td>\n",
              "      <td>483500</td>\n",
              "      <td>469000</td>\n",
              "      <td>474000</td>\n",
              "      <td>96750</td>\n",
              "      <td>-0.012500</td>\n",
              "      <td>100.00000</td>\n",
              "      <td>63.02660</td>\n",
              "      <td>0.98852</td>\n",
              "    </tr>\n",
              "    <tr>\n",
              "      <th>63</th>\n",
              "      <td>2022-04-07</td>\n",
              "      <td>469000</td>\n",
              "      <td>471500</td>\n",
              "      <td>462000</td>\n",
              "      <td>462000</td>\n",
              "      <td>103079</td>\n",
              "      <td>-0.025316</td>\n",
              "      <td>67.23280</td>\n",
              "      <td>61.49074</td>\n",
              "      <td>1.73489</td>\n",
              "    </tr>\n",
              "    <tr>\n",
              "      <th>64</th>\n",
              "      <td>2022-04-08</td>\n",
              "      <td>462500</td>\n",
              "      <td>466500</td>\n",
              "      <td>453500</td>\n",
              "      <td>458000</td>\n",
              "      <td>87055</td>\n",
              "      <td>-0.008658</td>\n",
              "      <td>54.61421</td>\n",
              "      <td>58.79055</td>\n",
              "      <td>1.10794</td>\n",
              "    </tr>\n",
              "    <tr>\n",
              "      <th>65</th>\n",
              "      <td>2022-04-11</td>\n",
              "      <td>450500</td>\n",
              "      <td>459000</td>\n",
              "      <td>449000</td>\n",
              "      <td>453500</td>\n",
              "      <td>59322</td>\n",
              "      <td>-0.009825</td>\n",
              "      <td>73.23027</td>\n",
              "      <td>63.77628</td>\n",
              "      <td>0.95203</td>\n",
              "    </tr>\n",
              "    <tr>\n",
              "      <th>66</th>\n",
              "      <td>2022-04-12</td>\n",
              "      <td>452000</td>\n",
              "      <td>461500</td>\n",
              "      <td>446500</td>\n",
              "      <td>458000</td>\n",
              "      <td>100684</td>\n",
              "      <td>0.009923</td>\n",
              "      <td>61.41113</td>\n",
              "      <td>62.00159</td>\n",
              "      <td>0.90890</td>\n",
              "    </tr>\n",
              "  </tbody>\n",
              "</table>\n",
              "<p>67 rows × 10 columns</p>\n",
              "</div>\n",
              "      <button class=\"colab-df-convert\" onclick=\"convertToInteractive('df-5ec496df-74d7-4ae9-98fd-a8d620194944')\"\n",
              "              title=\"Convert this dataframe to an interactive table.\"\n",
              "              style=\"display:none;\">\n",
              "        \n",
              "  <svg xmlns=\"http://www.w3.org/2000/svg\" height=\"24px\"viewBox=\"0 0 24 24\"\n",
              "       width=\"24px\">\n",
              "    <path d=\"M0 0h24v24H0V0z\" fill=\"none\"/>\n",
              "    <path d=\"M18.56 5.44l.94 2.06.94-2.06 2.06-.94-2.06-.94-.94-2.06-.94 2.06-2.06.94zm-11 1L8.5 8.5l.94-2.06 2.06-.94-2.06-.94L8.5 2.5l-.94 2.06-2.06.94zm10 10l.94 2.06.94-2.06 2.06-.94-2.06-.94-.94-2.06-.94 2.06-2.06.94z\"/><path d=\"M17.41 7.96l-1.37-1.37c-.4-.4-.92-.59-1.43-.59-.52 0-1.04.2-1.43.59L10.3 9.45l-7.72 7.72c-.78.78-.78 2.05 0 2.83L4 21.41c.39.39.9.59 1.41.59.51 0 1.02-.2 1.41-.59l7.78-7.78 2.81-2.81c.8-.78.8-2.07 0-2.86zM5.41 20L4 18.59l7.72-7.72 1.47 1.35L5.41 20z\"/>\n",
              "  </svg>\n",
              "      </button>\n",
              "      \n",
              "  <style>\n",
              "    .colab-df-container {\n",
              "      display:flex;\n",
              "      flex-wrap:wrap;\n",
              "      gap: 12px;\n",
              "    }\n",
              "\n",
              "    .colab-df-convert {\n",
              "      background-color: #E8F0FE;\n",
              "      border: none;\n",
              "      border-radius: 50%;\n",
              "      cursor: pointer;\n",
              "      display: none;\n",
              "      fill: #1967D2;\n",
              "      height: 32px;\n",
              "      padding: 0 0 0 0;\n",
              "      width: 32px;\n",
              "    }\n",
              "\n",
              "    .colab-df-convert:hover {\n",
              "      background-color: #E2EBFA;\n",
              "      box-shadow: 0px 1px 2px rgba(60, 64, 67, 0.3), 0px 1px 3px 1px rgba(60, 64, 67, 0.15);\n",
              "      fill: #174EA6;\n",
              "    }\n",
              "\n",
              "    [theme=dark] .colab-df-convert {\n",
              "      background-color: #3B4455;\n",
              "      fill: #D2E3FC;\n",
              "    }\n",
              "\n",
              "    [theme=dark] .colab-df-convert:hover {\n",
              "      background-color: #434B5C;\n",
              "      box-shadow: 0px 1px 3px 1px rgba(0, 0, 0, 0.15);\n",
              "      filter: drop-shadow(0px 1px 2px rgba(0, 0, 0, 0.3));\n",
              "      fill: #FFFFFF;\n",
              "    }\n",
              "  </style>\n",
              "\n",
              "      <script>\n",
              "        const buttonEl =\n",
              "          document.querySelector('#df-5ec496df-74d7-4ae9-98fd-a8d620194944 button.colab-df-convert');\n",
              "        buttonEl.style.display =\n",
              "          google.colab.kernel.accessAllowed ? 'block' : 'none';\n",
              "\n",
              "        async function convertToInteractive(key) {\n",
              "          const element = document.querySelector('#df-5ec496df-74d7-4ae9-98fd-a8d620194944');\n",
              "          const dataTable =\n",
              "            await google.colab.kernel.invokeFunction('convertToInteractive',\n",
              "                                                     [key], {});\n",
              "          if (!dataTable) return;\n",
              "\n",
              "          const docLinkHtml = 'Like what you see? Visit the ' +\n",
              "            '<a target=\"_blank\" href=https://colab.research.google.com/notebooks/data_table.ipynb>data table notebook</a>'\n",
              "            + ' to learn more about interactive tables.';\n",
              "          element.innerHTML = '';\n",
              "          dataTable['output_type'] = 'display_data';\n",
              "          await google.colab.output.renderOutput(dataTable, element);\n",
              "          const docLink = document.createElement('div');\n",
              "          docLink.innerHTML = docLinkHtml;\n",
              "          element.appendChild(docLink);\n",
              "        }\n",
              "      </script>\n",
              "    </div>\n",
              "  </div>\n",
              "  "
            ]
          },
          "metadata": {},
          "execution_count": 16
        }
      ]
    },
    {
      "cell_type": "markdown",
      "source": [
        "## 1-4. Feature Selection"
      ],
      "metadata": {
        "id": "Uba_J4denfKP"
      }
    },
    {
      "cell_type": "code",
      "source": [
        "## You need to visualized a relational graph\n",
        "fig = plt.figure(figsize=(10,5))\n",
        "ax1 = fig.add_subplot(221)\n",
        "ax2 = fig.add_subplot(222)\n",
        "ax3 = fig.add_subplot(223)\n",
        "ax4 = fig.add_subplot(224)\n",
        "\n",
        "ax1.scatter(df_all[\"Key_Count0\"], df_all[\"Change\"])\n",
        "ax2.scatter(df_all[\"Volume\"], df_all[\"Change\"])\n",
        "ax3.scatter(df_all[\"Key_Count1\"], df_all[\"Change\"])\n",
        "ax4.scatter(df_all[\"Key_Count2\"], df_all[\"Change\"])"
      ],
      "metadata": {
        "colab": {
          "base_uri": "https://localhost:8080/",
          "height": 338
        },
        "id": "MN6CLgl1KwPz",
        "outputId": "4a98d939-8ba0-423b-804b-29b2131d140b"
      },
      "execution_count": 17,
      "outputs": [
        {
          "output_type": "execute_result",
          "data": {
            "text/plain": [
              "<matplotlib.collections.PathCollection at 0x7f6d33b63a10>"
            ]
          },
          "metadata": {},
          "execution_count": 17
        },
        {
          "output_type": "display_data",
          "data": {
            "text/plain": [
              "<Figure size 720x360 with 4 Axes>"
            ],
            "image/png": "[encoded data removed]"
          },
          "metadata": {
            "needs_background": "light"
          }
        }
      ]
    },
    {
      "cell_type": "markdown",
      "source": [
        "# 2. Define Model"
      ],
      "metadata": {
        "id": "TNMOttK54rBV"
      }
    },
    {
      "cell_type": "code",
      "source": [
        "#https://pytorch.org/docs/stable/generated/torch.nn.RNN.html\n",
        "#rnn 예제를 보고 일단 한번 돌려봅시다\n",
        "rnn = torch.nn.RNN(2, 100, 1, batch_first=True)\n",
        "input = torch.randn(1, 5, 2)\n",
        "h0 = torch.randn(1, 1, 100)\n",
        "output, hn = rnn(input, h0)"
      ],
      "metadata": {
        "id": "O1RvjKOYVh_1"
      },
      "execution_count": 18,
      "outputs": []
    },
    {
      "cell_type": "code",
      "source": [
        "input_size = 3\n",
        "batch_size = 1\n",
        "sequence_size = 5\n",
        "hidden_size = 100\n",
        "layer_size = 1\n",
        "batch_first = True\n",
        "rnn = torch.nn.RNN(input_size, hidden_size, layer_size, batch_first=batch_first)\n",
        "input = torch.randn(batch_size, sequence_size, input_size)\n",
        "h0 = torch.randn(1*layer_size, batch_size, hidden_size)\n",
        "output, hn = rnn(input, h0) #(모든 sequence에 대한 hidden 값, 맨마지막 seq에 대한 hidden 값)"
      ],
      "metadata": {
        "id": "krK6UzzZVi_r"
      },
      "execution_count": 19,
      "outputs": []
    },
    {
      "cell_type": "code",
      "source": [
        "class RNNModel(torch.nn.Module):\n",
        "    def __init__(self, input_dim, hidden_dim, output_dim, num_layer=1, batch_first=True):\n",
        "        super(RNNModel, self).__init__()\n",
        "        self.rnn = torch.nn.LSTM(input_size=input_dim, hidden_size=hidden_dim, num_layers=num_layer, batch_first=batch_first)\n",
        "        self.relu = torch.nn.ReLU()\n",
        "        self.linear_classifier = torch.nn.Linear(hidden_dim, output_dim, bias=True)\n",
        "\n",
        "    def forward(self, x):\n",
        "\n",
        "        all_hidden, last_hidden = self.rnn(x.unsqueeze(0))\n",
        "        #x = self.relu(last_hidden)\n",
        "        x = self.linear_classifier(all_hidden[:, -1])\n",
        "        return x"
      ],
      "metadata": {
        "id": "gSpqndTU4Hcf"
      },
      "execution_count": 20,
      "outputs": []
    },
    {
      "cell_type": "markdown",
      "source": [
        "# 3. Define the loss function and the optimizer"
      ],
      "metadata": {
        "id": "oixYOm_SJR0A"
      }
    },
    {
      "cell_type": "code",
      "source": [
        "input_size = 3\n",
        "hidden_size = 10\n",
        "sequence_size = 5\n",
        "output_size = 1\n",
        "layer_size = 1\n",
        "\n",
        "learning_rate = 0.001\n",
        "model = RNNModel(input_size, hidden_size, output_size)\n",
        "\n",
        "optimizer = torch.optim.Adam(model.parameters(), lr=learning_rate)\n",
        "loss_function = torch.nn.MSELoss()"
      ],
      "metadata": {
        "id": "fDMsIJ6r5Pfv"
      },
      "execution_count": 21,
      "outputs": []
    },
    {
      "cell_type": "markdown",
      "source": [
        "# 4. Define train function"
      ],
      "metadata": {
        "id": "qoe4rEnxL7BY"
      }
    },
    {
      "cell_type": "code",
      "source": [
        "def train(train_x, train_y, loss_function, optimizer, model):\n",
        "  total_loss = []\n",
        "\n",
        "  for idx in range(len(train_x)):\n",
        "    model.train()\n",
        "    optimizer.zero_grad()\n",
        "    train_x_tensor = torch.tensor(train_x[idx]).float() #convert numpy to torch tensor\n",
        "    train_y_tensor = torch.tensor(train_y[idx]).float()\n",
        "    logit = model(train_x_tensor)\n",
        "    loss = loss_function(logit, train_y_tensor)\n",
        "    total_loss.append(loss.item())\n",
        "\n",
        "    loss.backward()\n",
        "    optimizer.step()\n",
        "\n",
        "  return total_loss"
      ],
      "metadata": {
        "id": "7Cq43_T9KKgM"
      },
      "execution_count": 22,
      "outputs": []
    },
    {
      "cell_type": "markdown",
      "source": [
        "# 5. Training "
      ],
      "metadata": {
        "id": "vSBoqT4TL4r8"
      }
    },
    {
      "cell_type": "code",
      "source": [
        "from sklearn.model_selection import train_test_split\n",
        "from sklearn.preprocessing import MinMaxScaler\n",
        "\n",
        "scaler = MinMaxScaler()\n",
        "df[['Scaled_Key_Count0', 'Scaled_Key_Count1', 'Scaled_Key_Count2']] = scaler.fit_transform(df[['Key_Count0', 'Key_Count1', 'Key_Count2']])"
      ],
      "metadata": {
        "id": "c8O-TLezJnNZ"
      },
      "execution_count": 23,
      "outputs": []
    },
    {
      "cell_type": "code",
      "source": [
        "df_all = df"
      ],
      "metadata": {
        "id": "3FBzfa1xNYD7"
      },
      "execution_count": 24,
      "outputs": []
    },
    {
      "cell_type": "code",
      "source": [
        "'''\n",
        "s_idx, e_idx, date_interval, num_days = 0, len(df_all), 1, 4\n",
        "for idx in range(s_idx, e_idx-s_idx, date_interval):\n",
        "  print(df_all.loc[idx:idx+num_days])\n",
        "'''"
      ],
      "metadata": {
        "colab": {
          "base_uri": "https://localhost:8080/",
          "height": 35
        },
        "id": "HB3pGNhrhTAT",
        "outputId": "432ef83b-664e-43e1-cdd7-315012b3588b"
      },
      "execution_count": 25,
      "outputs": [
        {
          "output_type": "execute_result",
          "data": {
            "text/plain": [
              "'\\ns_idx, e_idx, date_interval, num_days = 0, len(df_all), 1, 4\\nfor idx in range(s_idx, e_idx-s_idx, date_interval):\\n  print(df_all.loc[idx:idx+num_days])\\n'"
            ],
            "application/vnd.google.colaboratory.intrinsic+json": {
              "type": "string"
            }
          },
          "metadata": {},
          "execution_count": 25
        }
      ]
    },
    {
      "cell_type": "code",
      "source": [
        "seq_x = []\n",
        "seq_y = []\n",
        "feature_list = ['Scaled_Key_Count0', 'Scaled_Key_Count1', 'Scaled_Key_Count2']\n",
        "s_idx, e_idx, date_interval, num_days = 0, len(df_all), 1, 4\n",
        "for idx in range(s_idx, e_idx-s_idx, date_interval):\n",
        "  x = df_all.loc[idx:idx+num_days][feature_list].to_numpy().tolist()\n",
        "  y = df_all.loc[idx:idx+num_days][\"Change\"].sum().tolist()\n",
        "  seq_x.append(x) if len(x) == 5 else None\n",
        "  seq_y.append(y) if len(x) == 5 else None\n",
        "\n",
        "train_x, test_x, train_y, test_y = train_test_split(seq_x, seq_y, test_size=0.2)"
      ],
      "metadata": {
        "id": "NAB9TuhoMBxa"
      },
      "execution_count": 26,
      "outputs": []
    },
    {
      "cell_type": "code",
      "source": [
        "best_model = None\n",
        "num_epoch = 500\n",
        "loss_epoch = []\n",
        "\n",
        "for epoch in range(num_epoch):\n",
        "  loss_list = train(train_x, train_y, loss_function, optimizer, model)\n",
        "  loss_epoch.append(sum(loss_list)/len(train_x))"
      ],
      "metadata": {
        "colab": {
          "base_uri": "https://localhost:8080/"
        },
        "id": "oq7Hr22FMWd7",
        "outputId": "61da2791-4c2b-4a62-a6b4-9a33186c5bb9"
      },
      "execution_count": 27,
      "outputs": [
        {
          "output_type": "stream",
          "name": "stderr",
          "text": [
            "/usr/local/lib/python3.7/dist-packages/torch/nn/modules/loss.py:529: UserWarning: Using a target size (torch.Size([])) that is different to the input size (torch.Size([1, 1])). This will likely lead to incorrect results due to broadcasting. Please ensure they have the same size.\n",
            "  return F.mse_loss(input, target, reduction=self.reduction)\n"
          ]
        }
      ]
    },
    {
      "cell_type": "code",
      "source": [
        "## You need to visualized a relational graph\n",
        "fig = plt.figure(figsize=(10,5))\n",
        "ax1 = fig.add_subplot(121)\n",
        "\n",
        "ax1.bar(range(num_epoch), loss_epoch)"
      ],
      "metadata": {
        "colab": {
          "base_uri": "https://localhost:8080/",
          "height": 338
        },
        "id": "hBGe9xxjXGOv",
        "outputId": "6657ce34-aa5a-4a12-8af4-a98a1e01ed9c"
      },
      "execution_count": 28,
      "outputs": [
        {
          "output_type": "execute_result",
          "data": {
            "text/plain": [
              "<BarContainer object of 500 artists>"
            ]
          },
          "metadata": {},
          "execution_count": 28
        },
        {
          "output_type": "display_data",
          "data": {
            "text/plain": [
              "<Figure size 720x360 with 1 Axes>"
            ],
            "image/png": "[encoded data removed]"
          },
          "metadata": {
            "needs_background": "light"
          }
        }
      ]
    },
    {
      "cell_type": "markdown",
      "source": [
        "# 7. Evaluation"
      ],
      "metadata": {
        "id": "lhoHKKW-tpix"
      }
    },
    {
      "cell_type": "code",
      "source": [
        "x_predicted = []\n",
        "for idx in range(len(train_x)):\n",
        "  predicted = model(torch.tensor(train_x[idx]).float())\n",
        "  x_predicted.append(predicted.detach())\n",
        "x_pred_np = np.array(x_predicted)"
      ],
      "metadata": {
        "colab": {
          "base_uri": "https://localhost:8080/"
        },
        "id": "sB-uSQCIsXiP",
        "outputId": "fd142114-57fb-4678-b689-82cacb9b5260"
      },
      "execution_count": 29,
      "outputs": [
        {
          "output_type": "stream",
          "name": "stderr",
          "text": [
            "/usr/local/lib/python3.7/dist-packages/ipykernel_launcher.py:5: FutureWarning: The input object of type 'Tensor' is an array-like implementing one of the corresponding protocols (`__array__`, `__array_interface__` or `__array_struct__`); but not a sequence (or 0-D). In the future, this object will be coerced as if it was first converted using `np.array(obj)`. To retain the old behaviour, you have to either modify the type 'Tensor', or assign to an empty array created with `np.empty(correct_shape, dtype=object)`.\n",
            "  \"\"\"\n",
            "/usr/local/lib/python3.7/dist-packages/ipykernel_launcher.py:5: VisibleDeprecationWarning: Creating an ndarray from ragged nested sequences (which is a list-or-tuple of lists-or-tuples-or ndarrays with different lengths or shapes) is deprecated. If you meant to do this, you must specify 'dtype=object' when creating the ndarray.\n",
            "  \"\"\"\n"
          ]
        }
      ]
    },
    {
      "cell_type": "code",
      "source": [
        "plt.plot(train_y[:100])\n",
        "plt.plot(x_pred_np[:100])\n",
        "plt.legend(['original', 'prediction'])\n",
        "plt.show()"
      ],
      "metadata": {
        "colab": {
          "base_uri": "https://localhost:8080/",
          "height": 265
        },
        "id": "kQD1eY-rgIfJ",
        "outputId": "5e6d0179-dfe4-45c2-f2f1-3fd98548c86a"
      },
      "execution_count": 30,
      "outputs": [
        {
          "output_type": "display_data",
          "data": {
            "text/plain": [
              "<Figure size 432x288 with 1 Axes>"
            ],
            "image/png": "[encoded data removed]"
          },
          "metadata": {
            "needs_background": "light"
          }
        }
      ]
    },
    {
      "cell_type": "code",
      "source": [
        "x_predicted = []\n",
        "for idx in range(len(test_x)):\n",
        "  predicted = model(torch.tensor(test_x[idx]).float())\n",
        "  x_predicted.append(predicted.detach())\n",
        "x_pred_np = np.array(x_predicted)"
      ],
      "metadata": {
        "colab": {
          "base_uri": "https://localhost:8080/"
        },
        "id": "YG4hP0lkbr5m",
        "outputId": "a3c45d7b-b5a2-4ccd-de40-26ca3a313f86"
      },
      "execution_count": 31,
      "outputs": [
        {
          "output_type": "stream",
          "name": "stderr",
          "text": [
            "/usr/local/lib/python3.7/dist-packages/ipykernel_launcher.py:5: FutureWarning: The input object of type 'Tensor' is an array-like implementing one of the corresponding protocols (`__array__`, `__array_interface__` or `__array_struct__`); but not a sequence (or 0-D). In the future, this object will be coerced as if it was first converted using `np.array(obj)`. To retain the old behaviour, you have to either modify the type 'Tensor', or assign to an empty array created with `np.empty(correct_shape, dtype=object)`.\n",
            "  \"\"\"\n",
            "/usr/local/lib/python3.7/dist-packages/ipykernel_launcher.py:5: VisibleDeprecationWarning: Creating an ndarray from ragged nested sequences (which is a list-or-tuple of lists-or-tuples-or ndarrays with different lengths or shapes) is deprecated. If you meant to do this, you must specify 'dtype=object' when creating the ndarray.\n",
            "  \"\"\"\n"
          ]
        }
      ]
    },
    {
      "cell_type": "code",
      "source": [
        "plt.plot(test_y[:100])\n",
        "plt.plot(x_pred_np[:100])\n",
        "plt.legend(['original', 'prediction'])\n",
        "plt.show()"
      ],
      "metadata": {
        "colab": {
          "base_uri": "https://localhost:8080/",
          "height": 265
        },
        "id": "I7DySU4Rbx4j",
        "outputId": "5eb30eab-2599-43dd-9cb8-95019a6c2031"
      },
      "execution_count": 32,
      "outputs": [
        {
          "output_type": "display_data",
          "data": {
            "text/plain": [
              "<Figure size 432x288 with 1 Axes>"
            ],
            "image/png": "[encoded data removed]"
          },
          "metadata": {
            "needs_background": "light"
          }
        }
      ]
    },
    {
      "cell_type": "markdown",
      "source": [
        "# 6. Prediction"
      ],
      "metadata": {
        "id": "4dcxR6HENDED"
      }
    },
    {
      "cell_type": "code",
      "source": [
        "def predict(key_count, model):\n",
        "  model.eval()\n",
        "  logit = model(key_count)\n",
        "  return logit"
      ],
      "metadata": {
        "id": "tpeTGbdENCOr"
      },
      "execution_count": 33,
      "outputs": []
    },
    {
      "cell_type": "code",
      "source": [
        "raw_input = [[74.4,90.1,1.3],[74.6,84.4,1.2],[52.9,80.4,0.7],[51.9,89.3,1.6],[77.7,100,1.4]]\n",
        "scaled_input = []\n",
        "for a_day in raw_input:\n",
        "  key_count = np.array(a_day)\n",
        "  scaled = scaler.transform(key_count.reshape(1,-1)).tolist()[0]\n",
        "  scaled_input.append(scaled)"
      ],
      "metadata": {
        "id": "xERZPzOuMXRG",
        "colab": {
          "base_uri": "https://localhost:8080/"
        },
        "outputId": "abfc3ea5-9419-4c47-ec20-1a1522ea81eb"
      },
      "execution_count": 38,
      "outputs": [
        {
          "output_type": "stream",
          "name": "stderr",
          "text": [
            "/usr/local/lib/python3.7/dist-packages/sklearn/base.py:451: UserWarning: X does not have valid feature names, but MinMaxScaler was fitted with feature names\n",
            "  \"X does not have valid feature names, but\"\n",
            "/usr/local/lib/python3.7/dist-packages/sklearn/base.py:451: UserWarning: X does not have valid feature names, but MinMaxScaler was fitted with feature names\n",
            "  \"X does not have valid feature names, but\"\n",
            "/usr/local/lib/python3.7/dist-packages/sklearn/base.py:451: UserWarning: X does not have valid feature names, but MinMaxScaler was fitted with feature names\n",
            "  \"X does not have valid feature names, but\"\n",
            "/usr/local/lib/python3.7/dist-packages/sklearn/base.py:451: UserWarning: X does not have valid feature names, but MinMaxScaler was fitted with feature names\n",
            "  \"X does not have valid feature names, but\"\n",
            "/usr/local/lib/python3.7/dist-packages/sklearn/base.py:451: UserWarning: X does not have valid feature names, but MinMaxScaler was fitted with feature names\n",
            "  \"X does not have valid feature names, but\"\n"
          ]
        }
      ]
    },
    {
      "cell_type": "code",
      "source": [
        "scaled_input"
      ],
      "metadata": {
        "colab": {
          "base_uri": "https://localhost:8080/"
        },
        "id": "XIlxM867jo9Y",
        "outputId": "91c4468b-fdfc-4984-ed4d-3bc8beb01216"
      },
      "execution_count": 39,
      "outputs": [
        {
          "output_type": "execute_result",
          "data": {
            "text/plain": [
              "[[0.5129149831156548, 1.3788898052175838, 0.1433225178696319],\n",
              " [0.5167203348100633, 1.148798458953117, 0.12477112215537535],\n",
              " [0.10383967596669241, 0.987330847539456, 0.03201414358409256],\n",
              " [0.08481291749464781, 1.3465962829348515, 0.1989767050124016],\n",
              " [0.5757032860734022, 1.7785221434663954, 0.16187391358388847]]"
            ]
          },
          "metadata": {},
          "execution_count": 39
        }
      ]
    },
    {
      "cell_type": "code",
      "source": [
        "df_all.max()\n",
        "predicted = predict(torch.FloatTensor(scaled_input), model)"
      ],
      "metadata": {
        "id": "9iunoWaXwXuL"
      },
      "execution_count": 40,
      "outputs": []
    },
    {
      "cell_type": "code",
      "source": [
        "print(\"검색량이\"+str(raw_input)+\"일때 주가는\", str(predicted.item()*100) )"
      ],
      "metadata": {
        "colab": {
          "base_uri": "https://localhost:8080/"
        },
        "id": "MD8b4C3aw35E",
        "outputId": "2dadb063-5010-4fa4-a1ca-e75bd7fd5e0c"
      },
      "execution_count": 41,
      "outputs": [
        {
          "output_type": "stream",
          "name": "stdout",
          "text": [
            "검색량이[[74.4, 90.1, 1.3], [74.6, 84.4, 1.2], [52.9, 80.4, 0.7], [51.9, 89.3, 1.6], [77.7, 100, 1.4]]일때 주가는 -15.871116518974304\n"
          ]
        }
      ]
    },
    {
      "cell_type": "code",
      "source": [
        ""
      ],
      "metadata": {
        "id": "h6DoPrBcUBMw"
      },
      "execution_count": 37,
      "outputs": []
    }
  ]
}